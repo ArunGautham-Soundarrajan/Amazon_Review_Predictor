{
 "cells": [
  {
   "cell_type": "code",
   "execution_count": 131,
   "metadata": {},
   "outputs": [],
   "source": [
    "import csv\n",
    "from bs4 import BeautifulSoup\n",
    "from selenium import webdriver"
   ]
  },
  {
   "cell_type": "code",
   "execution_count": 132,
   "metadata": {},
   "outputs": [],
   "source": [
    "driver = webdriver.Chrome('C:\\chromedriver\\chromedriver')"
   ]
  },
  {
   "cell_type": "code",
   "execution_count": 133,
   "metadata": {},
   "outputs": [],
   "source": [
    "def get_data(item):\n",
    "    \n",
    "    #grab the title\n",
    "    title = item.h2.a.text.strip()\n",
    "    \n",
    "    #grab the ratings and review data\n",
    "    try:\n",
    "        rating = item.i.span.text.strip()\n",
    "        num_review = item.find('span', attrs = {\"class\":\"a-size-base\"}).text\n",
    "    except AttributeError:\n",
    "        return\n",
    "    \n",
    "    #grab the price data\n",
    "    try: \n",
    "        price_parent = item.find('span','a-price')\n",
    "        price = price_parent.find('span','a-offscreen').text\n",
    "        price = float(price.replace(\"£\",\"\").replace(\",\",\"\"))\n",
    "    except AttributeError:\n",
    "        return \n",
    "    \n",
    "    #grab the product specifcation data\n",
    "    try:\n",
    "        parent_specs = item.find('div','s-product-specs-view')\n",
    "        specs = parent_specs.find_all('span','a-text-bold')\n",
    "        display_size = specs[0].text\n",
    "        storage_type = specs[1].text\n",
    "        cpu_speed = specs[2].text\n",
    "        ram = specs[3].text\n",
    "    except AttributeError:\n",
    "        return\n",
    "    \n",
    "    if(price>100):\n",
    "        result = (title, price, num_review, display_size, storage_type, cpu_speed, ram,rating)\n",
    "        return result\n",
    "    else:\n",
    "        return "
   ]
  },
  {
   "cell_type": "code",
   "execution_count": 134,
   "metadata": {},
   "outputs": [],
   "source": [
    "records = []\n",
    "\n",
    "for i in range(1,400):\n",
    "    \n",
    "    #url of amazon search results for laptops\n",
    "    url = \"https://www.amazon.co.uk/s?k=laptop&i=computers&page={}&crid=2HCWD0O77NCOW&qid=1617022693&sprefix=laptop%2Caps%2C174&ref=sr_pg_2\".format(i)\n",
    "    driver.get(url)\n",
    "    \n",
    "    #beautiful soup\n",
    "    soup = BeautifulSoup(driver.page_source, 'html.parser')\n",
    "    results = soup.find_all('div', {'data-component-type' : 's-search-result'})\n",
    "    \n",
    "    #extracting the needed data\n",
    "    for item in results:\n",
    "        data = get_data(item)\n",
    "        if (data):\n",
    "            records.append(data)\n"
   ]
  },
  {
   "cell_type": "code",
   "execution_count": 135,
   "metadata": {},
   "outputs": [],
   "source": [
    "with open('laptop_data.csv','w', newline =\"\",encoding = 'utf-8') as f:\n",
    "    writer = csv.writer(f)\n",
    "    writer.writerow(['Title', 'Price', 'No. Reviews', 'Display size', 'Storage type', 'CPU Speed', 'RAM', 'Rating'])\n",
    "    writer.writerows(records)"
   ]
  },
  {
   "cell_type": "code",
   "execution_count": 136,
   "metadata": {},
   "outputs": [],
   "source": [
    "driver.close()"
   ]
  },
  {
   "cell_type": "code",
   "execution_count": null,
   "metadata": {},
   "outputs": [],
   "source": []
  }
 ],
 "metadata": {
  "kernelspec": {
   "display_name": "Python 3",
   "language": "python",
   "name": "python3"
  },
  "language_info": {
   "codemirror_mode": {
    "name": "ipython",
    "version": 3
   },
   "file_extension": ".py",
   "mimetype": "text/x-python",
   "name": "python",
   "nbconvert_exporter": "python",
   "pygments_lexer": "ipython3",
   "version": "3.8.5"
  }
 },
 "nbformat": 4,
 "nbformat_minor": 4
}
