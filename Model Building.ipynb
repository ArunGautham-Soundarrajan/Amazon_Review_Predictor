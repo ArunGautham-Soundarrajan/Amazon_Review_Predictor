{
 "cells": [
  {
   "cell_type": "code",
   "execution_count": 1,
   "metadata": {},
   "outputs": [],
   "source": [
    "import numpy as np\n",
    "import pandas as pd\n",
    "import matplotlib.pyplot as plt\n",
    "import seaborn as sns\n",
    "sns.set(style=\"darkgrid\")"
   ]
  },
  {
   "cell_type": "code",
   "execution_count": 2,
   "metadata": {},
   "outputs": [],
   "source": [
    "df = pd.read_csv('cleaned_data.csv')\n",
    "df = df.drop(['Unnamed: 0','Title'],axis=1)"
   ]
  },
  {
   "cell_type": "code",
   "execution_count": 3,
   "metadata": {
    "scrolled": true
   },
   "outputs": [
    {
     "name": "stdout",
     "output_type": "stream",
     "text": [
      "<class 'pandas.core.frame.DataFrame'>\n",
      "RangeIndex: 626 entries, 0 to 625\n",
      "Data columns (total 10 columns):\n",
      " #   Column        Non-Null Count  Dtype  \n",
      "---  ------        --------------  -----  \n",
      " 0   Price         626 non-null    float64\n",
      " 1   No. Reviews   626 non-null    int64  \n",
      " 2   Display size  626 non-null    float64\n",
      " 3   Storage type  626 non-null    object \n",
      " 4   CPU Speed     626 non-null    float64\n",
      " 5   RAM           626 non-null    int64  \n",
      " 6   Rating        626 non-null    float64\n",
      " 7   Brand         626 non-null    object \n",
      " 8   graphics      626 non-null    int64  \n",
      " 9   Processor     626 non-null    object \n",
      "dtypes: float64(4), int64(3), object(3)\n",
      "memory usage: 49.0+ KB\n"
     ]
    }
   ],
   "source": [
    "df.info()"
   ]
  },
  {
   "cell_type": "markdown",
   "metadata": {},
   "source": [
    "### Getting Dummies for Categorical features"
   ]
  },
  {
   "cell_type": "code",
   "execution_count": 4,
   "metadata": {},
   "outputs": [
    {
     "data": {
      "text/plain": [
       "Index(['Price', 'No. Reviews', 'Display size', 'CPU Speed', 'RAM', 'Rating',\n",
       "       'graphics', 'Storage type_EMMC',\n",
       "       'Storage type_Flash Memory Solid State', 'Storage type_HDD',\n",
       "       'Storage type_Others', 'Storage type_SATA', 'Storage type_SSD',\n",
       "       'Brand_acer', 'Brand_apple', 'Brand_asus', 'Brand_dell', 'Brand_hp',\n",
       "       'Brand_lenovo', 'Brand_other_brand', 'Processor_amd', 'Processor_i3',\n",
       "       'Processor_i5', 'Processor_i7', 'Processor_i9', 'Processor_unknown'],\n",
       "      dtype='object')"
      ]
     },
     "execution_count": 4,
     "metadata": {},
     "output_type": "execute_result"
    }
   ],
   "source": [
    "df = pd.get_dummies(data = df)\n",
    "df.columns"
   ]
  },
  {
   "cell_type": "markdown",
   "metadata": {},
   "source": [
    "### Importing Necessary libraries"
   ]
  },
  {
   "cell_type": "code",
   "execution_count": 19,
   "metadata": {},
   "outputs": [],
   "source": [
    "import sklearn\n",
    "from sklearn.model_selection import train_test_split\n",
    "from sklearn.linear_model import LinearRegression , Lasso\n",
    "from sklearn.ensemble import RandomForestRegressor\n",
    "from sklearn.metrics import mean_squared_error, r2_score,mean_absolute_error\n",
    "from sklearn.model_selection import cross_val_score\n",
    "from sklearn.preprocessing import MinMaxScaler"
   ]
  },
  {
   "cell_type": "markdown",
   "metadata": {},
   "source": [
    "### Creating train test split for our model"
   ]
  },
  {
   "cell_type": "code",
   "execution_count": 20,
   "metadata": {},
   "outputs": [],
   "source": [
    "X = df.drop('Price',axis=1)\n",
    "y = df.Price.values\n",
    "X_train, X_test, y_train, y_test = train_test_split(X, y, test_size=0.3)"
   ]
  },
  {
   "cell_type": "markdown",
   "metadata": {},
   "source": [
    "### Multiple Linear Regression"
   ]
  },
  {
   "cell_type": "code",
   "execution_count": 21,
   "metadata": {
    "scrolled": true
   },
   "outputs": [
    {
     "name": "stdout",
     "output_type": "stream",
     "text": [
      "R2 Score : 0.6129941346013468\n",
      "Cross validation score 0.6482594708513224\n"
     ]
    }
   ],
   "source": [
    "linreg = LinearRegression().fit(X_train,y_train)\n",
    "linreg_y_pred = linreg.predict(X_test)\n",
    "\n",
    "print(\"R2 Score :\",r2_score(y_test, linreg_y_pred))\n",
    "\n",
    "score = cross_val_score(linreg, X, y, scoring = 'r2', cv=5).mean()\n",
    "\n",
    "print(\"Cross validation score\" , score)"
   ]
  },
  {
   "cell_type": "markdown",
   "metadata": {},
   "source": [
    "### Lasso Regression"
   ]
  },
  {
   "cell_type": "code",
   "execution_count": 24,
   "metadata": {
    "scrolled": true
   },
   "outputs": [
    {
     "name": "stdout",
     "output_type": "stream",
     "text": [
      "R2 Score : 0.6141669092692867\n"
     ]
    }
   ],
   "source": [
    "# Lets scale the data\n",
    "scaler = MinMaxScaler().fit(X_train)\n",
    "X_train = scaler.transform(X_train)\n",
    "X_test = scaler.transform(X_test)\n",
    "\n",
    "lasso = Lasso(alpha=0.1).fit(X_train,y_train)\n",
    "print(\"R2 Score :\",lasso.score(X_test, y_test))\n"
   ]
  },
  {
   "cell_type": "markdown",
   "metadata": {},
   "source": [
    "### Finding the best value for alpha"
   ]
  },
  {
   "cell_type": "code",
   "execution_count": 25,
   "metadata": {},
   "outputs": [
    {
     "data": {
      "image/png": "[encoded data removed]",
      "text/plain": [
       "<Figure size 432x288 with 1 Axes>"
      ]
     },
     "metadata": {},
     "output_type": "display_data"
    }
   ],
   "source": [
    "alpha = []\n",
    "error = []\n",
    "for i in range(1,100):\n",
    "    alpha.append(i/100)\n",
    "    lasso = Lasso(alpha=i/100, max_iter=10000)\n",
    "    error.append(cross_val_score(lasso, X, y, scoring = 'neg_mean_absolute_error', cv=5).mean())\n",
    "plt.title(\"Different error values across alpha\")\n",
    "plt.xlabel(\"Alpha\")\n",
    "plt.ylabel('Error')\n",
    "plt.plot(alpha,error)\n",
    "plt.show()"
   ]
  },
  {
   "cell_type": "code",
   "execution_count": 26,
   "metadata": {
    "scrolled": true
   },
   "outputs": [
    {
     "name": "stdout",
     "output_type": "stream",
     "text": [
      "Best alpha value for Lasso:  0.99\n",
      "Cross validation score  0.6480111447828305\n"
     ]
    }
   ],
   "source": [
    "print(\"Best alpha value for Lasso: \",alpha[np.argmax(error)])\n",
    "\n",
    "lasso = Lasso(alpha=0.1, max_iter = 10000)\n",
    "score = cross_val_score(lasso, X, y, scoring = 'r2', cv=5).mean()\n",
    "print(\"Cross validation score \" , score)"
   ]
  },
  {
   "cell_type": "markdown",
   "metadata": {},
   "source": [
    "### Random Forest Regressor"
   ]
  },
  {
   "cell_type": "code",
   "execution_count": 30,
   "metadata": {},
   "outputs": [
    {
     "name": "stdout",
     "output_type": "stream",
     "text": [
      "The R2 score is  0.7924855602625669\n"
     ]
    }
   ],
   "source": [
    "rf = RandomForestRegressor()\n",
    "rf = rf.fit(X_train,y_train)\n",
    "print(\"The R2 score is \",rf.score(X_test,y_test))"
   ]
  },
  {
   "cell_type": "code",
   "execution_count": null,
   "metadata": {},
   "outputs": [],
   "source": []
  },
  {
   "cell_type": "code",
   "execution_count": null,
   "metadata": {},
   "outputs": [],
   "source": []
  }
 ],
 "metadata": {
  "kernelspec": {
   "display_name": "Python 3",
   "language": "python",
   "name": "python3"
  },
  "language_info": {
   "codemirror_mode": {
    "name": "ipython",
    "version": 3
   },
   "file_extension": ".py",
   "mimetype": "text/x-python",
   "name": "python",
   "nbconvert_exporter": "python",
   "pygments_lexer": "ipython3",
   "version": "3.8.5"
  }
 },
 "nbformat": 4,
 "nbformat_minor": 4
}
