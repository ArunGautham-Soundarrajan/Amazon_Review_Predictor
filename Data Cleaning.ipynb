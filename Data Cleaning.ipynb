{
 "cells": [
  {
   "cell_type": "code",
   "execution_count": 1,
   "metadata": {},
   "outputs": [],
   "source": [
    "import numpy as np\n",
    "import pandas as pd"
   ]
  },
  {
   "cell_type": "code",
   "execution_count": 2,
   "metadata": {},
   "outputs": [],
   "source": [
    "# Load the data\n",
    "df = pd.read_csv(\"laptop_data.csv\")"
   ]
  },
  {
   "cell_type": "code",
   "execution_count": 3,
   "metadata": {},
   "outputs": [],
   "source": [
    "#Lets filter the unwanted data,like monitors, tablet extra\n",
    "df = df[df['CPU Speed'].str.contains('GHz')]"
   ]
  },
  {
   "cell_type": "code",
   "execution_count": 4,
   "metadata": {},
   "outputs": [],
   "source": [
    "# Lets make the review feature as numeric\n",
    "df['No. Reviews'] = df['No. Reviews'].str.replace(',','').astype(int)"
   ]
  },
  {
   "cell_type": "code",
   "execution_count": 5,
   "metadata": {},
   "outputs": [],
   "source": [
    "#Removed irrelavant data and converted it to numeric\n",
    "df['Display size'] = df[df['Display size'].str.contains('in')]['Display size'].str.replace('in','')\n",
    "df = df.dropna()\n",
    "df.drop(df[df['Display size'].str.contains('W')].index , inplace =True)\n",
    "df['Display size'] = df['Display size'].astype(float)"
   ]
  },
  {
   "cell_type": "code",
   "execution_count": 6,
   "metadata": {},
   "outputs": [],
   "source": [
    "# As there are mulitple values for CPU speed, its hard to create dummy columns. So I changed it to numeric\n",
    "df['CPU Speed'] = df['CPU Speed'].str.replace('GHz','').astype(float)"
   ]
  },
  {
   "cell_type": "code",
   "execution_count": 7,
   "metadata": {},
   "outputs": [],
   "source": [
    "#Dropped duplicate rows\n",
    "df.drop(df[df['RAM'].str.contains('-')][1:].index, inplace = True)"
   ]
  },
  {
   "cell_type": "code",
   "execution_count": 8,
   "metadata": {},
   "outputs": [],
   "source": [
    "#Cleaning the RAM feature\n",
    "df.RAM = df.RAM.str.replace('GB','')\n",
    "df.RAM = df.RAM.str.replace('TB','')\n",
    "\n",
    "df.RAM = df.RAM.replace( '-' , np.NAN)\n",
    "df.RAM = df.RAM.fillna(df['RAM'].mode()[0]).astype(int)"
   ]
  },
  {
   "cell_type": "code",
   "execution_count": 9,
   "metadata": {},
   "outputs": [],
   "source": [
    "#Cleaning the ratings column\n",
    "df.Rating = df['Rating'].str[:3].astype(float)"
   ]
  },
  {
   "cell_type": "code",
   "execution_count": 10,
   "metadata": {},
   "outputs": [],
   "source": [
    "#Fixing the storage types\n",
    "df['Storage type'] = df['Storage type'].str.replace('Solid State Drive','SSD')\n",
    "df['Storage type'] = df['Storage type'].apply(lambda x : 'SSD' if ('ssd' in x.lower()) else x )\n",
    "\n",
    "#Fixed the EMMC\n",
    "df['Storage type'] = df['Storage type'].apply(lambda x : 'EMMC' if ('emmc' in x.lower()) else x )\n",
    "df['Storage type'] = df['Storage type'].apply(lambda x : 'EMMC' if ('Embedded MultiMediaCard' in x) else x )\n",
    "\n",
    "#Fixed the HDD\n",
    "df['Storage type'] = df['Storage type'].apply(lambda x : 'HDD' if ('hdd' in x.lower()) else x )\n",
    "\n",
    "#Replacing the rest of the data with others\n",
    "df['Storage type'] = df['Storage type'].replace('Mechanical Hard Drive','Others').replace('Hybrid Drive','Others')\n",
    "df['Storage type'] = df['Storage type'].replace('-','Others').replace('Integrated','Others').replace('Hybrid','Others').replace('SDD','Others')\n",
    "df['Storage type'] = df['Storage type'].replace('64gb','Others').replace('Flash','Others').replace('sshd','Others').replace('USB','Others')"
   ]
  },
  {
   "cell_type": "code",
   "execution_count": null,
   "metadata": {},
   "outputs": [],
   "source": []
  },
  {
   "cell_type": "code",
   "execution_count": null,
   "metadata": {},
   "outputs": [],
   "source": []
  }
 ],
 "metadata": {
  "kernelspec": {
   "display_name": "Python 3",
   "language": "python",
   "name": "python3"
  },
  "language_info": {
   "codemirror_mode": {
    "name": "ipython",
    "version": 3
   },
   "file_extension": ".py",
   "mimetype": "text/x-python",
   "name": "python",
   "nbconvert_exporter": "python",
   "pygments_lexer": "ipython3",
   "version": "3.8.5"
  }
 },
 "nbformat": 4,
 "nbformat_minor": 4
}
