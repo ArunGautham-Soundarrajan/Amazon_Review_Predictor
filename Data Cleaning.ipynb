{
 "cells": [
  {
   "cell_type": "code",
   "execution_count": 1,
   "metadata": {},
   "outputs": [],
   "source": [
    "import numpy as np\n",
    "import pandas as pd"
   ]
  },
  {
   "cell_type": "code",
   "execution_count": 2,
   "metadata": {},
   "outputs": [],
   "source": [
    "# Load the data\n",
    "df = pd.read_csv(\"laptop_data.csv\")"
   ]
  },
  {
   "cell_type": "code",
   "execution_count": 3,
   "metadata": {},
   "outputs": [],
   "source": [
    "#Lets filter the unwanted data,like monitors, tablet extra\n",
    "df = df[df['CPU Speed'].str.contains('GHz')]"
   ]
  },
  {
   "cell_type": "code",
   "execution_count": 4,
   "metadata": {},
   "outputs": [],
   "source": [
    "# Lets make the review feature as numeric\n",
    "df['No. Reviews'] = df['No. Reviews'].str.replace(',','').astype(int)"
   ]
  },
  {
   "cell_type": "code",
   "execution_count": 5,
   "metadata": {},
   "outputs": [],
   "source": [
    "#Removed irrelavant data and converted it to numeric\n",
    "df['Display size'] = df[df['Display size'].str.contains('in')]['Display size'].str.replace('in','')\n",
    "df = df.dropna()\n",
    "df.drop(df[df['Display size'].str.contains('W')].index , inplace =True)\n",
    "df['Display size'] = df['Display size'].astype(float)"
   ]
  },
  {
   "cell_type": "code",
   "execution_count": 6,
   "metadata": {},
   "outputs": [],
   "source": [
    "# As there are mulitple values for CPU speed, its hard to create dummy columns. So I changed it to numeric\n",
    "df['CPU Speed'] = df['CPU Speed'].str.replace('GHz','').astype(float)"
   ]
  },
  {
   "cell_type": "code",
   "execution_count": 7,
   "metadata": {},
   "outputs": [],
   "source": [
    "#Dropped duplicate rows\n",
    "df.drop(df[df['RAM'].str.contains('-')][1:].index, inplace = True)"
   ]
  },
  {
   "cell_type": "code",
   "execution_count": 8,
   "metadata": {},
   "outputs": [],
   "source": [
    "#Cleaning the RAM feature\n",
    "df.RAM = df.RAM.str.replace('GB','')\n",
    "df.RAM = df.RAM.str.replace('TB','')\n",
    "\n",
    "df.RAM = df.RAM.replace( '-' , np.NAN)\n",
    "df.RAM = df.RAM.fillna(df['RAM'].mode()[0]).astype(int)"
   ]
  },
  {
   "cell_type": "code",
   "execution_count": 9,
   "metadata": {},
   "outputs": [],
   "source": [
    "#Cleaning the ratings column\n",
    "df.Rating = df['Rating'].str[:3].astype(float)"
   ]
  },
  {
   "cell_type": "code",
   "execution_count": 10,
   "metadata": {},
   "outputs": [],
   "source": [
    "#Fixing the storage types\n",
    "df['Storage type'] = df['Storage type'].str.replace('Solid State Drive','SSD')\n",
    "df['Storage type'] = df['Storage type'].apply(lambda x : 'SSD' if ('ssd' in x.lower()) else x )\n",
    "\n",
    "#Fixed the EMMC\n",
    "df['Storage type'] = df['Storage type'].apply(lambda x : 'EMMC' if ('emmc' in x.lower()) else x )\n",
    "df['Storage type'] = df['Storage type'].apply(lambda x : 'EMMC' if ('Embedded MultiMediaCard' in x) else x )\n",
    "\n",
    "#Fixed the HDD\n",
    "df['Storage type'] = df['Storage type'].apply(lambda x : 'HDD' if ('hdd' in x.lower()) else x )\n",
    "\n",
    "#Replacing the rest of the data with others\n",
    "df['Storage type'] = df['Storage type'].replace('Mechanical Hard Drive','Others').replace('Hybrid Drive','Others')\n",
    "df['Storage type'] = df['Storage type'].replace('-','Others').replace('Integrated','Others').replace('Hybrid','Others').replace('SDD','Others')\n",
    "df['Storage type'] = df['Storage type'].replace('64gb','Others').replace('Flash','Others').replace('sshd','Others').replace('USB','Others')"
   ]
  },
  {
   "cell_type": "code",
   "execution_count": 11,
   "metadata": {},
   "outputs": [],
   "source": [
    "#Extracting brand from the title\n",
    "df['Brand'] = df['Title'].apply(lambda x : x.split(' ')[:][0])"
   ]
  },
  {
   "cell_type": "code",
   "execution_count": 12,
   "metadata": {},
   "outputs": [],
   "source": [
    "#Dropped the duplicate values\n",
    "df.drop(df[df['Brand'].str.contains(\"14.1\")][1:].index, inplace = True)"
   ]
  },
  {
   "cell_type": "code",
   "execution_count": 13,
   "metadata": {},
   "outputs": [],
   "source": [
    "#Again dropped the duplicate value, I think there were many same sponsered ads\n",
    "df.drop_duplicates(subset='Title',keep=\"first\", inplace = True)"
   ]
  },
  {
   "cell_type": "code",
   "execution_count": 14,
   "metadata": {},
   "outputs": [],
   "source": [
    "df.Brand = df.Brand.str.replace('BLACK','Hp')"
   ]
  },
  {
   "cell_type": "code",
   "execution_count": 30,
   "metadata": {},
   "outputs": [
    {
     "name": "stderr",
     "output_type": "stream",
     "text": [
      "<ipython-input-30-3bead77bada0>:2: SettingWithCopyWarning: \n",
      "A value is trying to be set on a copy of a slice from a DataFrame\n",
      "\n",
      "See the caveats in the documentation: https://pandas.pydata.org/pandas-docs/stable/user_guide/indexing.html#returning-a-view-versus-a-copy\n",
      "  df.RAM[998] = 8\n"
     ]
    }
   ],
   "source": [
    "pd.options.display.max_colwidth = 250\n",
    "df.RAM[998] = 8\n",
    "df.Brand = df.Brand.apply(lambda x : x.lower() )"
   ]
  },
  {
   "cell_type": "code",
   "execution_count": 44,
   "metadata": {},
   "outputs": [],
   "source": [
    "# Now lets only keep the important brands and replace the rest with other_brand\n",
    "def brand_maker(x):\n",
    "    if (x==\"lenovo\") or (x==\"hp\") or (x==\"asus\") or (x==\"dell\") or (x==\"apple\") or (x==\"acer\") :\n",
    "        return x\n",
    "    else:\n",
    "        return 'other_brand'"
   ]
  },
  {
   "cell_type": "code",
   "execution_count": 53,
   "metadata": {},
   "outputs": [],
   "source": [
    "df.Brand = df.Brand.apply(brand_maker)"
   ]
  },
  {
   "cell_type": "code",
   "execution_count": 108,
   "metadata": {},
   "outputs": [],
   "source": [
    "#Lets make the title to lower, so we can extract more informartion with ease\n",
    "#Lets check if it has any gaming laptops, which typically comes with a powerful graphics cards, which might be useful to extract\n",
    "index_for_grp = df[df.Title.str.lower().str.contains('graphics|gaming|nvidia')].index"
   ]
  },
  {
   "cell_type": "code",
   "execution_count": 109,
   "metadata": {},
   "outputs": [],
   "source": [
    "#If it has graphics card set it to 1, 0 is default\n",
    "df['graphics'] = 0\n",
    "df.loc[index_for_grp,'graphics'] = 1"
   ]
  },
  {
   "cell_type": "code",
   "execution_count": 118,
   "metadata": {},
   "outputs": [],
   "source": [
    "i5_index = df[df.Title.str.lower().str.contains('i5')].index\n",
    "i7_index = df[df.Title.str.lower().str.contains('i7')].index\n",
    "i9_index = df[df.Title.str.lower().str.contains('i9')].index\n",
    "i3_index = df[df.Title.str.lower().str.contains('i3')].index\n",
    "amd_index = df[df.Title.str.lower().str.contains('amd')].index"
   ]
  },
  {
   "cell_type": "code",
   "execution_count": 119,
   "metadata": {},
   "outputs": [],
   "source": [
    "df[\"Processor\"] = 'unknown'"
   ]
  },
  {
   "cell_type": "code",
   "execution_count": 122,
   "metadata": {},
   "outputs": [],
   "source": [
    "df.loc[i5_index,'Processor'] = 'i5'\n",
    "df.loc[i7_index,'Processor'] = 'i7'\n",
    "df.loc[i9_index,'Processor'] = 'i9'\n",
    "df.loc[i3_index,'Processor'] = 'i3'\n",
    "df.loc[amd_index,'Processor'] = 'amd'"
   ]
  },
  {
   "cell_type": "markdown",
   "metadata": {},
   "source": [
    "#### There are 9 M1 chips and i left them as unknown, cause creating a new column for 9 values, does'nt seem important\n",
    "#### Just looked there are some laptops with wrong RAM values, just have to manually update it. Its painful :\\"
   ]
  },
  {
   "cell_type": "code",
   "execution_count": 141,
   "metadata": {},
   "outputs": [
    {
     "data": {
      "text/html": [
       "<div>\n",
       "<style scoped>\n",
       "    .dataframe tbody tr th:only-of-type {\n",
       "        vertical-align: middle;\n",
       "    }\n",
       "\n",
       "    .dataframe tbody tr th {\n",
       "        vertical-align: top;\n",
       "    }\n",
       "\n",
       "    .dataframe thead th {\n",
       "        text-align: right;\n",
       "    }\n",
       "</style>\n",
       "<table border=\"1\" class=\"dataframe\">\n",
       "  <thead>\n",
       "    <tr style=\"text-align: right;\">\n",
       "      <th></th>\n",
       "      <th>Title</th>\n",
       "      <th>Price</th>\n",
       "      <th>No. Reviews</th>\n",
       "      <th>Display size</th>\n",
       "      <th>Storage type</th>\n",
       "      <th>CPU Speed</th>\n",
       "      <th>RAM</th>\n",
       "      <th>Rating</th>\n",
       "      <th>Brand</th>\n",
       "      <th>graphics</th>\n",
       "      <th>Processor</th>\n",
       "    </tr>\n",
       "  </thead>\n",
       "  <tbody>\n",
       "    <tr>\n",
       "      <th>197</th>\n",
       "      <td>FANCY CHERRY 10 inch 8GB Laptop Netbook Notebook PC Ultrabook Android HDMI Dual Core WIFI Camera, Accessories Laptop Bag + Mouse + Mouse Pad + Earphone (Black)</td>\n",
       "      <td>119.00</td>\n",
       "      <td>246</td>\n",
       "      <td>10.0</td>\n",
       "      <td>SSD</td>\n",
       "      <td>1.5</td>\n",
       "      <td>1</td>\n",
       "      <td>3.0</td>\n",
       "      <td>other_brand</td>\n",
       "      <td>0</td>\n",
       "      <td>unknown</td>\n",
       "    </tr>\n",
       "    <tr>\n",
       "      <th>296</th>\n",
       "      <td>Dell G7 17.3 inch FHD 144Hz 300 nits IPS Anti-Glare LED Backlit Narrow Border Display Gaming laptop, Intel Core i7-10750H, 16 GB RAM, 1 TB SSD, NVIDIA GeForce RTX 2060 6GB GDDR6, Win 10 Home</td>\n",
       "      <td>1469.00</td>\n",
       "      <td>13</td>\n",
       "      <td>17.3</td>\n",
       "      <td>Flash Memory Solid State</td>\n",
       "      <td>5.0</td>\n",
       "      <td>1</td>\n",
       "      <td>4.1</td>\n",
       "      <td>dell</td>\n",
       "      <td>1</td>\n",
       "      <td>i7</td>\n",
       "    </tr>\n",
       "    <tr>\n",
       "      <th>315</th>\n",
       "      <td>FANCY CHERRY® NEW 2018 HD 10 inch Mini Laptop Notebook Netbook Tablet Computer 1G DDR3 8GB Memory VIA WM8880 CPU Dual Core Android Screen Wifi Camera Keyboard USB HDMI (Silver 8GB)</td>\n",
       "      <td>109.00</td>\n",
       "      <td>241</td>\n",
       "      <td>10.0</td>\n",
       "      <td>SSD</td>\n",
       "      <td>1.5</td>\n",
       "      <td>1</td>\n",
       "      <td>3.0</td>\n",
       "      <td>other_brand</td>\n",
       "      <td>0</td>\n",
       "      <td>unknown</td>\n",
       "    </tr>\n",
       "    <tr>\n",
       "      <th>344</th>\n",
       "      <td>FANCY CHERRY 10 inch 8GB Laptop Netbook Notebook PC Ultrabook Android HDMI Dual Core WIFI Camera, Accessories Laptop Bag + Mouse + Mouse Pad + Earphone (White)</td>\n",
       "      <td>118.14</td>\n",
       "      <td>246</td>\n",
       "      <td>10.0</td>\n",
       "      <td>SSD</td>\n",
       "      <td>1.5</td>\n",
       "      <td>1</td>\n",
       "      <td>3.0</td>\n",
       "      <td>other_brand</td>\n",
       "      <td>0</td>\n",
       "      <td>unknown</td>\n",
       "    </tr>\n",
       "    <tr>\n",
       "      <th>474</th>\n",
       "      <td>G-Anica® Netbook Laptop PC 10 inch Android Portable Ultrabook,Dual Core, Wifi,with Laptop Bag + Mouse + Mouse Pad + Earphone (4 PCS Computer Accessories) (Pink)</td>\n",
       "      <td>139.99</td>\n",
       "      <td>153</td>\n",
       "      <td>10.0</td>\n",
       "      <td>HDD</td>\n",
       "      <td>1.5</td>\n",
       "      <td>1</td>\n",
       "      <td>3.0</td>\n",
       "      <td>other_brand</td>\n",
       "      <td>0</td>\n",
       "      <td>unknown</td>\n",
       "    </tr>\n",
       "    <tr>\n",
       "      <th>506</th>\n",
       "      <td>FANCY CHERRY 10 inch 8GB Laptop Netbook Notebook PC Ultrabook Android HDMI Dual Core WIFI Camera, Accessories Laptop Bag + Mouse + Mouse Pad + Earphone (Pink)</td>\n",
       "      <td>119.00</td>\n",
       "      <td>246</td>\n",
       "      <td>10.0</td>\n",
       "      <td>SATA</td>\n",
       "      <td>1.5</td>\n",
       "      <td>1</td>\n",
       "      <td>3.0</td>\n",
       "      <td>other_brand</td>\n",
       "      <td>0</td>\n",
       "      <td>unknown</td>\n",
       "    </tr>\n",
       "    <tr>\n",
       "      <th>553</th>\n",
       "      <td>FANCY CHERRY 10 inch 8GB Laptop Netbook Notebook PC Ultrabook Android HDMI Dual Core WIFI Camera, Accessories Laptop Bag + Mouse + Mouse Pad + Earphone (Silver)</td>\n",
       "      <td>118.14</td>\n",
       "      <td>246</td>\n",
       "      <td>10.0</td>\n",
       "      <td>SATA</td>\n",
       "      <td>1.5</td>\n",
       "      <td>1</td>\n",
       "      <td>3.0</td>\n",
       "      <td>other_brand</td>\n",
       "      <td>0</td>\n",
       "      <td>unknown</td>\n",
       "    </tr>\n",
       "    <tr>\n",
       "      <th>669</th>\n",
       "      <td>G-Anica® Netbook Laptop PC 10 inch Android Portable Ultrabook,Dual Core, Wifi,with Laptop Bag + Mouse + Mouse Pad + Earphone (4 PCS Computer Accessories) (Black)</td>\n",
       "      <td>139.99</td>\n",
       "      <td>153</td>\n",
       "      <td>10.0</td>\n",
       "      <td>HDD</td>\n",
       "      <td>1.5</td>\n",
       "      <td>1</td>\n",
       "      <td>3.0</td>\n",
       "      <td>other_brand</td>\n",
       "      <td>0</td>\n",
       "      <td>unknown</td>\n",
       "    </tr>\n",
       "    <tr>\n",
       "      <th>710</th>\n",
       "      <td>FANCY CHERRY® NEW 2018 HD 10 inch Mini Laptop Notebook Netbook Tablet Computer 1G DDR3 8GB Memory VIA WM8880 CPU Dual Core Android Screen Wifi Camera Keyboard USB HDMI (Black 8GB)</td>\n",
       "      <td>109.00</td>\n",
       "      <td>241</td>\n",
       "      <td>10.0</td>\n",
       "      <td>SSD</td>\n",
       "      <td>1.5</td>\n",
       "      <td>1</td>\n",
       "      <td>3.0</td>\n",
       "      <td>other_brand</td>\n",
       "      <td>0</td>\n",
       "      <td>unknown</td>\n",
       "    </tr>\n",
       "    <tr>\n",
       "      <th>774</th>\n",
       "      <td>BIGMAC 10.1 Inch Quad Core 8GB Computer Laptop PC Android 6.0 Mini Netbook Slim and Lightweight Notebook WiFi Webcam Netflix YouTube Google Player Flash (Pink)</td>\n",
       "      <td>143.50</td>\n",
       "      <td>114</td>\n",
       "      <td>10.1</td>\n",
       "      <td>SSD</td>\n",
       "      <td>1.5</td>\n",
       "      <td>1</td>\n",
       "      <td>3.0</td>\n",
       "      <td>other_brand</td>\n",
       "      <td>0</td>\n",
       "      <td>unknown</td>\n",
       "    </tr>\n",
       "    <tr>\n",
       "      <th>1011</th>\n",
       "      <td>FANCY CHERRY® NEW 2018 HD 10 inch Mini Laptop Notebook Netbook Tablet Computer 1G DDR3 8GB Memory VIA WM8880 CPU Dual Core Android Screen Wifi Camera Keyboard USB HDMI</td>\n",
       "      <td>109.00</td>\n",
       "      <td>75</td>\n",
       "      <td>10.0</td>\n",
       "      <td>SATA</td>\n",
       "      <td>1.5</td>\n",
       "      <td>1</td>\n",
       "      <td>2.9</td>\n",
       "      <td>other_brand</td>\n",
       "      <td>0</td>\n",
       "      <td>unknown</td>\n",
       "    </tr>\n",
       "    <tr>\n",
       "      <th>1106</th>\n",
       "      <td>BIGMAC 10.1 Inch Quad Core 8GB Computer Laptop PC Android 6.0 Mini Netbook Slim and Lightweight Notebook WiFi Webcam Netflix YouTube Google Player Flash (Black)</td>\n",
       "      <td>143.50</td>\n",
       "      <td>114</td>\n",
       "      <td>10.1</td>\n",
       "      <td>SSD</td>\n",
       "      <td>1.5</td>\n",
       "      <td>1</td>\n",
       "      <td>3.0</td>\n",
       "      <td>other_brand</td>\n",
       "      <td>0</td>\n",
       "      <td>unknown</td>\n",
       "    </tr>\n",
       "    <tr>\n",
       "      <th>1175</th>\n",
       "      <td>BIGMAC 10.1 Inch Quad Core 8GB Computer Laptop PC Android 6.0 Mini Netbook Slim and Lightweight Notebook WiFi Webcam Netflix YouTube Google Player Flash (White)</td>\n",
       "      <td>143.50</td>\n",
       "      <td>114</td>\n",
       "      <td>10.1</td>\n",
       "      <td>SSD</td>\n",
       "      <td>1.5</td>\n",
       "      <td>1</td>\n",
       "      <td>3.0</td>\n",
       "      <td>other_brand</td>\n",
       "      <td>0</td>\n",
       "      <td>unknown</td>\n",
       "    </tr>\n",
       "    <tr>\n",
       "      <th>1774</th>\n",
       "      <td>New Apple iMac Pro (27-inch, 32GB RAM, 1TB SSD Storage)</td>\n",
       "      <td>4799.37</td>\n",
       "      <td>1</td>\n",
       "      <td>27.0</td>\n",
       "      <td>Flash Memory Solid State</td>\n",
       "      <td>3.3</td>\n",
       "      <td>1</td>\n",
       "      <td>4.0</td>\n",
       "      <td>other_brand</td>\n",
       "      <td>0</td>\n",
       "      <td>unknown</td>\n",
       "    </tr>\n",
       "    <tr>\n",
       "      <th>2741</th>\n",
       "      <td>Apple MacBook Pro (13-inch, 16GB RAM, 1TB SSD Storage, Magic Keyboard) - Space Grey (Latest Model)</td>\n",
       "      <td>1799.00</td>\n",
       "      <td>843</td>\n",
       "      <td>13.0</td>\n",
       "      <td>Flash Memory Solid State</td>\n",
       "      <td>2.0</td>\n",
       "      <td>1</td>\n",
       "      <td>4.7</td>\n",
       "      <td>apple</td>\n",
       "      <td>0</td>\n",
       "      <td>unknown</td>\n",
       "    </tr>\n",
       "  </tbody>\n",
       "</table>\n",
       "</div>"
      ],
      "text/plain": [
       "                                                                                                                                                                                               Title  \\\n",
       "197                                  FANCY CHERRY 10 inch 8GB Laptop Netbook Notebook PC Ultrabook Android HDMI Dual Core WIFI Camera, Accessories Laptop Bag + Mouse + Mouse Pad + Earphone (Black)   \n",
       "296   Dell G7 17.3 inch FHD 144Hz 300 nits IPS Anti-Glare LED Backlit Narrow Border Display Gaming laptop, Intel Core i7-10750H, 16 GB RAM, 1 TB SSD, NVIDIA GeForce RTX 2060 6GB GDDR6, Win 10 Home   \n",
       "315             FANCY CHERRY® NEW 2018 HD 10 inch Mini Laptop Notebook Netbook Tablet Computer 1G DDR3 8GB Memory VIA WM8880 CPU Dual Core Android Screen Wifi Camera Keyboard USB HDMI (Silver 8GB)   \n",
       "344                                  FANCY CHERRY 10 inch 8GB Laptop Netbook Notebook PC Ultrabook Android HDMI Dual Core WIFI Camera, Accessories Laptop Bag + Mouse + Mouse Pad + Earphone (White)   \n",
       "474                                 G-Anica® Netbook Laptop PC 10 inch Android Portable Ultrabook,Dual Core, Wifi,with Laptop Bag + Mouse + Mouse Pad + Earphone (4 PCS Computer Accessories) (Pink)   \n",
       "506                                   FANCY CHERRY 10 inch 8GB Laptop Netbook Notebook PC Ultrabook Android HDMI Dual Core WIFI Camera, Accessories Laptop Bag + Mouse + Mouse Pad + Earphone (Pink)   \n",
       "553                                 FANCY CHERRY 10 inch 8GB Laptop Netbook Notebook PC Ultrabook Android HDMI Dual Core WIFI Camera, Accessories Laptop Bag + Mouse + Mouse Pad + Earphone (Silver)   \n",
       "669                                G-Anica® Netbook Laptop PC 10 inch Android Portable Ultrabook,Dual Core, Wifi,with Laptop Bag + Mouse + Mouse Pad + Earphone (4 PCS Computer Accessories) (Black)   \n",
       "710              FANCY CHERRY® NEW 2018 HD 10 inch Mini Laptop Notebook Netbook Tablet Computer 1G DDR3 8GB Memory VIA WM8880 CPU Dual Core Android Screen Wifi Camera Keyboard USB HDMI (Black 8GB)   \n",
       "774                                  BIGMAC 10.1 Inch Quad Core 8GB Computer Laptop PC Android 6.0 Mini Netbook Slim and Lightweight Notebook WiFi Webcam Netflix YouTube Google Player Flash (Pink)   \n",
       "1011                         FANCY CHERRY® NEW 2018 HD 10 inch Mini Laptop Notebook Netbook Tablet Computer 1G DDR3 8GB Memory VIA WM8880 CPU Dual Core Android Screen Wifi Camera Keyboard USB HDMI   \n",
       "1106                                BIGMAC 10.1 Inch Quad Core 8GB Computer Laptop PC Android 6.0 Mini Netbook Slim and Lightweight Notebook WiFi Webcam Netflix YouTube Google Player Flash (Black)   \n",
       "1175                                BIGMAC 10.1 Inch Quad Core 8GB Computer Laptop PC Android 6.0 Mini Netbook Slim and Lightweight Notebook WiFi Webcam Netflix YouTube Google Player Flash (White)   \n",
       "1774                                                                                                                                         New Apple iMac Pro (27-inch, 32GB RAM, 1TB SSD Storage)   \n",
       "2741                                                                                              Apple MacBook Pro (13-inch, 16GB RAM, 1TB SSD Storage, Magic Keyboard) - Space Grey (Latest Model)   \n",
       "\n",
       "        Price  No. Reviews  Display size              Storage type  CPU Speed  \\\n",
       "197    119.00          246          10.0                       SSD        1.5   \n",
       "296   1469.00           13          17.3  Flash Memory Solid State        5.0   \n",
       "315    109.00          241          10.0                       SSD        1.5   \n",
       "344    118.14          246          10.0                       SSD        1.5   \n",
       "474    139.99          153          10.0                       HDD        1.5   \n",
       "506    119.00          246          10.0                      SATA        1.5   \n",
       "553    118.14          246          10.0                      SATA        1.5   \n",
       "669    139.99          153          10.0                       HDD        1.5   \n",
       "710    109.00          241          10.0                       SSD        1.5   \n",
       "774    143.50          114          10.1                       SSD        1.5   \n",
       "1011   109.00           75          10.0                      SATA        1.5   \n",
       "1106   143.50          114          10.1                       SSD        1.5   \n",
       "1175   143.50          114          10.1                       SSD        1.5   \n",
       "1774  4799.37            1          27.0  Flash Memory Solid State        3.3   \n",
       "2741  1799.00          843          13.0  Flash Memory Solid State        2.0   \n",
       "\n",
       "      RAM  Rating        Brand  graphics Processor  \n",
       "197     1     3.0  other_brand         0   unknown  \n",
       "296     1     4.1         dell         1        i7  \n",
       "315     1     3.0  other_brand         0   unknown  \n",
       "344     1     3.0  other_brand         0   unknown  \n",
       "474     1     3.0  other_brand         0   unknown  \n",
       "506     1     3.0  other_brand         0   unknown  \n",
       "553     1     3.0  other_brand         0   unknown  \n",
       "669     1     3.0  other_brand         0   unknown  \n",
       "710     1     3.0  other_brand         0   unknown  \n",
       "774     1     3.0  other_brand         0   unknown  \n",
       "1011    1     2.9  other_brand         0   unknown  \n",
       "1106    1     3.0  other_brand         0   unknown  \n",
       "1175    1     3.0  other_brand         0   unknown  \n",
       "1774    1     4.0  other_brand         0   unknown  \n",
       "2741    1     4.7        apple         0   unknown  "
      ]
     },
     "execution_count": 141,
     "metadata": {},
     "output_type": "execute_result"
    }
   ],
   "source": [
    "df[df.RAM == 1]"
   ]
  },
  {
   "cell_type": "code",
   "execution_count": null,
   "metadata": {},
   "outputs": [],
   "source": []
  }
 ],
 "metadata": {
  "kernelspec": {
   "display_name": "Python 3",
   "language": "python",
   "name": "python3"
  },
  "language_info": {
   "codemirror_mode": {
    "name": "ipython",
    "version": 3
   },
   "file_extension": ".py",
   "mimetype": "text/x-python",
   "name": "python",
   "nbconvert_exporter": "python",
   "pygments_lexer": "ipython3",
   "version": "3.8.5"
  }
 },
 "nbformat": 4,
 "nbformat_minor": 4
}
