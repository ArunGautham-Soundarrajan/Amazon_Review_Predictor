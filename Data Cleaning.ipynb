{
 "cells": [
  {
   "cell_type": "code",
   "execution_count": 1,
   "metadata": {},
   "outputs": [],
   "source": [
    "import numpy as np\n",
    "import pandas as pd"
   ]
  },
  {
   "cell_type": "code",
   "execution_count": 2,
   "metadata": {},
   "outputs": [],
   "source": [
    "# Load the data\n",
    "df = pd.read_csv(\"laptop_data.csv\")"
   ]
  },
  {
   "cell_type": "markdown",
   "metadata": {},
   "source": [
    "### Removing unwanted data like monitors, tablets"
   ]
  },
  {
   "cell_type": "code",
   "execution_count": 3,
   "metadata": {},
   "outputs": [],
   "source": [
    "#I filtered with GHz cause, every laptop has it mentioned in CPU speed\n",
    "df = df[df['CPU Speed'].str.contains('GHz')]"
   ]
  },
  {
   "cell_type": "markdown",
   "metadata": {},
   "source": [
    "### Converting the Number of review to numeric column"
   ]
  },
  {
   "cell_type": "code",
   "execution_count": 4,
   "metadata": {},
   "outputs": [],
   "source": [
    "# Lets make the review feature as numeric\n",
    "df['No. Reviews'] = df['No. Reviews'].str.replace(',','').astype(int)"
   ]
  },
  {
   "cell_type": "markdown",
   "metadata": {},
   "source": [
    "### Converting Display size column to numeric"
   ]
  },
  {
   "cell_type": "code",
   "execution_count": 5,
   "metadata": {},
   "outputs": [],
   "source": [
    "#Removed irrelavant data and converted it to numeric\n",
    "df['Display size'] = df[df['Display size'].str.contains('in')]['Display size'].str.replace('in','')\n",
    "df = df.dropna()\n",
    "df.drop(df[df['Display size'].str.contains('W')].index , inplace =True)\n",
    "df['Display size'] = df['Display size'].astype(float)\n",
    "\n",
    "# As there are mulitple values for CPU speed, its hard to create dummy columns. So I changed it to numeric\n",
    "df['CPU Speed'] = df['CPU Speed'].str.replace('GHz','').astype(float)"
   ]
  },
  {
   "cell_type": "code",
   "execution_count": 6,
   "metadata": {},
   "outputs": [],
   "source": [
    "#Dropped duplicate rows\n",
    "df.drop(df[df['RAM'].str.contains('-')][1:].index, inplace = True)"
   ]
  },
  {
   "cell_type": "markdown",
   "metadata": {},
   "source": [
    "### Cleaning the RAM column"
   ]
  },
  {
   "cell_type": "code",
   "execution_count": 7,
   "metadata": {},
   "outputs": [],
   "source": [
    "#Cleaning the RAM feature\n",
    "df.RAM = df.RAM.str.replace('GB','')\n",
    "df.RAM = df.RAM.str.replace('TB','')\n",
    "\n",
    "df.RAM = df.RAM.replace( '-' , np.NAN)\n",
    "df.RAM = df.RAM.fillna(df['RAM'].mode()[0]).astype(int)"
   ]
  },
  {
   "cell_type": "markdown",
   "metadata": {},
   "source": [
    "### Converting Ratings datatype to Float "
   ]
  },
  {
   "cell_type": "code",
   "execution_count": 8,
   "metadata": {},
   "outputs": [],
   "source": [
    "#Cleaning the ratings column\n",
    "df.Rating = df['Rating'].str[:3].astype(float)"
   ]
  },
  {
   "cell_type": "markdown",
   "metadata": {},
   "source": [
    "### Fixing the Storage type feature"
   ]
  },
  {
   "cell_type": "code",
   "execution_count": 9,
   "metadata": {},
   "outputs": [],
   "source": [
    "#Fixing the storage types\n",
    "df['Storage type'] = df['Storage type'].str.replace('Solid State Drive','SSD')\n",
    "df['Storage type'] = df['Storage type'].apply(lambda x : 'SSD' if ('ssd' in x.lower()) else x )\n",
    "\n",
    "#Fixed the EMMC\n",
    "df['Storage type'] = df['Storage type'].apply(lambda x : 'EMMC' if ('emmc' in x.lower()) else x )\n",
    "df['Storage type'] = df['Storage type'].apply(lambda x : 'EMMC' if ('Embedded MultiMediaCard' in x) else x )\n",
    "\n",
    "#Fixed the HDD\n",
    "df['Storage type'] = df['Storage type'].apply(lambda x : 'HDD' if ('hdd' in x.lower()) else x )\n",
    "\n",
    "#Replacing the rest of the data with others\n",
    "df['Storage type'] = df['Storage type'].replace('Mechanical Hard Drive','Others').replace('Hybrid Drive','Others')\n",
    "df['Storage type'] = df['Storage type'].replace('-','Others').replace('Integrated','Others').replace('Hybrid','Others').replace('SDD','Others')\n",
    "df['Storage type'] = df['Storage type'].replace('64gb','Others').replace('Flash','Others').replace('sshd','Others').replace('USB','Others')"
   ]
  },
  {
   "cell_type": "markdown",
   "metadata": {},
   "source": [
    "### Creating a new column Brand from the title"
   ]
  },
  {
   "cell_type": "code",
   "execution_count": 10,
   "metadata": {},
   "outputs": [
    {
     "name": "stderr",
     "output_type": "stream",
     "text": [
      "<ipython-input-10-afdc75968715>:13: SettingWithCopyWarning: \n",
      "A value is trying to be set on a copy of a slice from a DataFrame\n",
      "\n",
      "See the caveats in the documentation: https://pandas.pydata.org/pandas-docs/stable/user_guide/indexing.html#returning-a-view-versus-a-copy\n",
      "  df.RAM[998] = 8\n"
     ]
    }
   ],
   "source": [
    "#Extracting brand from the title\n",
    "df['Brand'] = df['Title'].apply(lambda x : x.split(' ')[:][0])\n",
    "\n",
    "#Dropped the duplicate values\n",
    "df.drop(df[df['Brand'].str.contains(\"14.1\")][1:].index, inplace = True)\n",
    "\n",
    "#Again dropped the duplicate value, I think there were many same sponsered ads\n",
    "df.drop_duplicates(subset='Title',keep=\"first\", inplace = True)\n",
    "\n",
    "df.Brand = df.Brand.str.replace('BLACK','Hp')\n",
    "\n",
    "pd.options.display.max_colwidth = 250\n",
    "df.RAM[998] = 8\n",
    "df.Brand = df.Brand.apply(lambda x : x.lower() )\n",
    "\n",
    "# Now lets only keep the important brands and replace the rest with other_brand\n",
    "def brand_maker(x):\n",
    "    if (x==\"lenovo\") or (x==\"hp\") or (x==\"asus\") or (x==\"dell\") or (x==\"apple\") or (x==\"acer\") :\n",
    "        return x\n",
    "    else:\n",
    "        return 'other_brand'\n",
    "\n",
    "df.Brand = df.Brand.apply(brand_maker)"
   ]
  },
  {
   "cell_type": "markdown",
   "metadata": {},
   "source": [
    "### Creating a new feature to represent if it has graphics card or not"
   ]
  },
  {
   "cell_type": "code",
   "execution_count": 11,
   "metadata": {},
   "outputs": [],
   "source": [
    "#Lets make the title to lower, so we can extract more informartion with ease\n",
    "#Lets check if it has any gaming laptops, which typically comes with a powerful graphics cards, which might be useful to extract\n",
    "index_for_grp = df[df.Title.str.lower().str.contains('graphics|gaming|nvidia')].index\n",
    "\n",
    "#If it has graphics card set it to 1, 0 is default\n",
    "df['graphics'] = 0\n",
    "df.loc[index_for_grp,'graphics'] = 1"
   ]
  },
  {
   "cell_type": "markdown",
   "metadata": {},
   "source": [
    "### Extracting processor type from the title"
   ]
  },
  {
   "cell_type": "code",
   "execution_count": 12,
   "metadata": {},
   "outputs": [],
   "source": [
    "i5_index = df[df.Title.str.lower().str.contains('i5')].index\n",
    "i7_index = df[df.Title.str.lower().str.contains('i7')].index\n",
    "i9_index = df[df.Title.str.lower().str.contains('i9')].index\n",
    "i3_index = df[df.Title.str.lower().str.contains('i3')].index\n",
    "amd_index = df[df.Title.str.lower().str.contains('amd')].index"
   ]
  },
  {
   "cell_type": "code",
   "execution_count": 13,
   "metadata": {},
   "outputs": [],
   "source": [
    "df[\"Processor\"] = 'unknown'"
   ]
  },
  {
   "cell_type": "code",
   "execution_count": 14,
   "metadata": {},
   "outputs": [],
   "source": [
    "df.loc[i5_index,'Processor'] = 'i5'\n",
    "df.loc[i7_index,'Processor'] = 'i7'\n",
    "df.loc[i9_index,'Processor'] = 'i9'\n",
    "df.loc[i3_index,'Processor'] = 'i3'\n",
    "df.loc[amd_index,'Processor'] = 'amd'"
   ]
  },
  {
   "cell_type": "markdown",
   "metadata": {},
   "source": [
    "#### There are 9 M1 chips and i left them as unknown, cause creating a new column for 9 values, does'nt seem important\n",
    "#### Just looked there are some laptops with wrong RAM values, just have to manually update it. Its painful :\\"
   ]
  },
  {
   "cell_type": "code",
   "execution_count": 15,
   "metadata": {},
   "outputs": [],
   "source": [
    "df.loc[1774,'RAM'] = 32\n",
    "df.loc[1774,'Brand'] = 'apple'\n",
    "\n",
    "df.loc[2741,'RAM'] = 16\n",
    "\n",
    "df.loc[296,\"RAM\"] = 16"
   ]
  },
  {
   "cell_type": "code",
   "execution_count": 16,
   "metadata": {
    "scrolled": true
   },
   "outputs": [
    {
     "name": "stderr",
     "output_type": "stream",
     "text": [
      "C:\\Users\\arung\\anaconda3\\lib\\site-packages\\pandas\\core\\indexing.py:1765: SettingWithCopyWarning: \n",
      "A value is trying to be set on a copy of a slice from a DataFrame.\n",
      "Try using .loc[row_indexer,col_indexer] = value instead\n",
      "\n",
      "See the caveats in the documentation: https://pandas.pydata.org/pandas-docs/stable/user_guide/indexing.html#returning-a-view-versus-a-copy\n",
      "  isetter(loc, value)\n"
     ]
    }
   ],
   "source": [
    "df[df.RAM == 1].loc[:,'RAM'] = 8"
   ]
  },
  {
   "cell_type": "markdown",
   "metadata": {},
   "source": [
    "### Reseting the index"
   ]
  },
  {
   "cell_type": "code",
   "execution_count": 17,
   "metadata": {},
   "outputs": [],
   "source": [
    "df = df.reset_index(drop=True)"
   ]
  },
  {
   "cell_type": "markdown",
   "metadata": {},
   "source": [
    "### Creating a new csv file with cleaned data, to further work"
   ]
  },
  {
   "cell_type": "code",
   "execution_count": 18,
   "metadata": {},
   "outputs": [],
   "source": [
    "df.to_csv('cleaned_data.csv')"
   ]
  },
  {
   "cell_type": "code",
   "execution_count": null,
   "metadata": {},
   "outputs": [],
   "source": []
  }
 ],
 "metadata": {
  "kernelspec": {
   "display_name": "Python 3",
   "language": "python",
   "name": "python3"
  },
  "language_info": {
   "codemirror_mode": {
    "name": "ipython",
    "version": 3
   },
   "file_extension": ".py",
   "mimetype": "text/x-python",
   "name": "python",
   "nbconvert_exporter": "python",
   "pygments_lexer": "ipython3",
   "version": "3.8.5"
  }
 },
 "nbformat": 4,
 "nbformat_minor": 4
}
